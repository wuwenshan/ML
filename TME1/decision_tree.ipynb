{
 "cells": [
  {
   "cell_type": "markdown",
   "metadata": {},
   "source": [
    "# <center><font color='red'> TME 1 - Arbres de décision, sélection de modèles </font></center>"
   ]
  },
  {
   "cell_type": "markdown",
   "metadata": {},
   "source": [
    "## <center><code style=\"background:yellow; color:black\"> L’essentiel sur les arbres de décision </code></center>"
   ]
  },
  {
   "cell_type": "markdown",
   "metadata": {},
   "source": [
    "Un arbre de décision est un modèle de classification hiérarchique : pour des exemples sous la représentation $x = (x_1, x_2, . . . , x_d) ∈ R^d$, à chaque nœud de l’arbre est associé un test sur une des dimensions $x_i$ de la forme $x_i ≤ s$ ou $x_i > s$, avec $s$ une valeur réelle. Ce test indique le nœud fils qui doit être sélectionné (par exemple pour un arbre binaire, le fils gauche quand le test est vrai, le fils droit sinon). À chaque feuille de l’arbre est associée une étiquette. Ainsi, la classification d’un exemple consiste enune succession de tests sur les valeurs des dimensions de l’exemple, selon un chemin dans l’arbre de la racine à une des feuilles. La feuille atteinte donne la classe prédite. L’apprentissage de l’arbre s’effectue de manière récursive gloutonne top-down : à chaque nœud, l’algorithme doit choisir un test optimal, c’est-à-dire à la fois sur quelle dimension faire le test et quel seuillage appliqué (ce qu’on appelle un split). La mesure d’optimalité est en général une mesure d’homogénéité sur la partition obtenue, usuellement l’entropie de Shanon ou l’index de Gini : l’entropie d’une partition est d’autant plus petite qu’une classe prédomine dans chaque sous-ensemble de la partition, elle est nulle lorsque la séparation est parfaite (un seul label présent dans chacune des partitions) et maximale lorsque l’ensemble est le plus désordonné possible (équiprobabilité des labels dans chaque partition). Pour calculer le split optimal, chaque dimension de l’espace de description est considérée itérativement ; pour une dimension $i$, les exemples sont triés par rapport à la valeur de l’attribut de cette dimension $x_i$, puis pour chaque split possible, le calcul de l’homogénéité des deux partitions obtenues (en termes de label) par ce split est effectué. Le split ayant la meilleure homogénéité est alors choisi. Bien que l’algorithme pourrait continuer récursivement jusqu’à n’obtenir que des feuilles contenant un ensemble pur d’exemples (d’une seule classe - si les exemples sont séparables, i.e. il n’y a pas deux exemples de label opposé avec une même description), on utilise souvent des critères d’arrêts (pourquoi ? - nous y reviendrons lors de ce TP). Les plus utilisés sont le nombre d’exemples minimumque doit contenir un nœud pour être divisé (critère local) et la profondeur maximale de l’arbre (critère global)."
   ]
  },
  {
   "cell_type": "markdown",
   "metadata": {},
   "source": [
    "## Exercice 1 - Entropie"
   ]
  },
  {
   "cell_type": "markdown",
   "metadata": {},
   "source": [
    "1. Soit un objet itérable $vect$ (une liste ou un vecteur **numpy** par exemple) qui contient une liste de label. Coder une fonction $entropie (vect)$ qui calcule l’entropie de ce vecteur : $H(Y) = \\sum_{y∈Y} p_y*log(p_y)$, $p_y$ correspond à la probabilité du label $y$ dans le vecteur $vect$. Penser à utiliser l’objet $Counter$ du module $collections$ qui permet de faire un histogramme des éléments d’une liste."
   ]
  },
  {
   "cell_type": "code",
   "execution_count": 1,
   "metadata": {},
   "outputs": [],
   "source": [
    "import numpy as np\n",
    "import collections as clt\n",
    "import pickle\n",
    "import pydot\n",
    "import matplotlib.pyplot as plt"
   ]
  },
  {
   "cell_type": "code",
   "execution_count": 2,
   "metadata": {},
   "outputs": [],
   "source": [
    "def p_log_p(freq):\n",
    "    \"\"\" fonction pour calculer \\sum p_i log(p_i) \"\"\"\n",
    "    return np.nan_to_num(np.sum(freq*np.log2(freq)))\n",
    "\n",
    "def entropy(y):\n",
    "    \"\"\" calcul de l'entropie d'un ensemble\"\"\"\n",
    "    ylen = float(y.size)\n",
    "    if ylen <= 1:\n",
    "        return 0\n",
    "    freq = np.array(list(clt.Counter(y).values()))/ylen\n",
    "    return -p_log_p(freq)"
   ]
  },
  {
   "cell_type": "markdown",
   "metadata": {},
   "source": [
    "2. L’entropie conditionnelle permet de calculer l’homogénéité de la partition obtenue. Dans le cas général d’un split n-aire en n partitions $P = {P_1, . . . , P_n}$, l’entropie conditionnelle à $P$ s’écrit $H(Y|P) = \\sum_{i}p(P_i)*H(Y|P_i)$, avec $H(Y|Pi) = -\\sum_{y∈Y}p(y|P_i)*log(p(y|P_i))$ l’entropie des labels conditionnée à la partition considérée, et $p(P_i) = |P_i| / \\sum_{j}P_j$, la proportion d’éléments dans $P_i$. <br>Coder la fonction entropie_cond(list_vect) qui à partir d’une liste de listes de labels (la partition des labels), calcule l’entropie conditionnelle de la partition."
   ]
  },
  {
   "cell_type": "code",
   "execution_count": 3,
   "metadata": {},
   "outputs": [],
   "source": [
    "def entropy_cond(y_list):\n",
    "    h, total = 0.,0.\n",
    "    for y in y_list:\n",
    "        h += len(y)*entropy(y)\n",
    "        total += len(y)\n",
    "    return h/total"
   ]
  },
  {
   "cell_type": "markdown",
   "metadata": {},
   "source": [
    "3. Le code suivant permet de charger un extrait de la base imdb (à télécharger sur le site de l’ue)"
   ]
  },
  {
   "cell_type": "code",
   "execution_count": 4,
   "metadata": {},
   "outputs": [
    {
     "name": "stdout",
     "output_type": "stream",
     "text": [
      "4587\n"
     ]
    }
   ],
   "source": [
    "# data : tableau (films ,features)\n",
    "# id2titles : dictionnaire  id -> titre ,\n",
    "# fields : id  feature  -> nom\n",
    "[data , id2titles , fields ] = pickle.load(open(\"imdb_extrait.pkl\",\"rb\"))\n",
    "# la  derniere  colonne  est le vote\n",
    "datax = data [: ,:32]\n",
    "datay = np.array ([1 if x[33] >6.5  else  -1 for x in data])\n",
    "print(len(id2titles))"
   ]
  },
  {
   "cell_type": "markdown",
   "metadata": {},
   "source": [
    "Chaque ligne du tableau data correspond à la description d’un film (le titre dans $id2titles$), chaque colonne à un attribut (dont la signification est donnée par $fields$). La plupart sont des genres (action, comédie, ...), la valeur 1 indique l’appartenance du film au genre, 0 sinon. Les dernières colonnes concernent l’année de production, la durée du film, le budget, le nombre de vote et la note moyenne attribuée au film. On binarise la note moyenne afin d’avoir deux classes, les films de note supérieure à 6.5, et les autres (vecteur $datay$). <br> Calculer pour chaque attribut binaire l’entropie et l’entropie conditionnelle du vote selon la partition induite par l’attribut (les exemples dont la valeur de l’attribut est 1 vs les autres). Calculer également la différence entre l’entropie et l’entropie conditionnelle pour chaque attribut. A quoi correspond une valeur de 0 ? une valeur de 1 ? Quel est le meilleur attribut pour la première partition ?"
   ]
  },
  {
   "cell_type": "code",
   "execution_count": 5,
   "metadata": {},
   "outputs": [
    {
     "data": {
      "text/plain": [
       "{'Sci-Fi': [0.564976837274551, 0.7759428920883399, -0.21096605481378894],\n",
       " 'Crime': [0.7256620117131098, 0.8562854793076193, -0.1306234675945095],\n",
       " 'Romance': [0.7540946843905093, 0.870501815646319, -0.1164071312558097],\n",
       " 'Animation': [0.2634038042219715, 0.6251563755620502, -0.36175257134007865],\n",
       " 'Music': [0.1926285852674641, 0.5897687660847964, -0.3971401808173324],\n",
       " 'Comedy': [0.9487805443246595, 0.9678447456133942, -0.01906420128873465],\n",
       " 'War': [0.2653268692430364, 0.6261179080725825, -0.3607910388295461],\n",
       " 'Horror': [0.5347013539632184, 0.7608051504326735, -0.2261037964694551],\n",
       " 'Film-Noir': [0.040466328209344704, 0.5136876375557368, -0.47322130934639206],\n",
       " 'Adult': [-0.0, 0.49345447345106436, -0.49345447345106436],\n",
       " 'News': [-0.0, 0.49345447345106436, -0.49345447345106436],\n",
       " 'Reality-TV': [-0.0, 0.49345447345106436, -0.49345447345106436],\n",
       " 'Thriller': [0.9104758524619008, 0.9486923996820149, -0.03821654722011414],\n",
       " 'Western': [0.13310901662996316, 0.560008981766046, -0.4268999651360828],\n",
       " 'Mystery': [0.49425468209811785, 0.7405818145001233, -0.24632713240200543],\n",
       " 'Short': [0.00786173698629584, 0.49738534194421236, -0.4895236049579165],\n",
       " 'Talk-Show': [-0.0, 0.49345447345106436, -0.49345447345106436],\n",
       " 'Drama': [0.9999176833887986, 0.9934133151454636, 0.006504368243335001],\n",
       " 'Action': [0.8103265236207233, 0.8986177352614261, -0.08829121164070275],\n",
       " 'Documentary': [0.058438060605145864,\n",
       "  0.5226735037536373,\n",
       "  -0.4642354431484914],\n",
       " 'Musical': [0.17702726334400468, 0.5819681051230667, -0.4049408417790621],\n",
       " 'History': [0.22865199105519707, 0.6077804689786629, -0.3791284779234658],\n",
       " 'Family': [0.45026771320199777, 0.7185883300520632, -0.2683206168500655],\n",
       " 'Adventure': [0.6915486835207777, 0.8392288152114532, -0.1476801316906755],\n",
       " 'Fantasy': [0.5144914462944487, 0.7507001965982887, -0.23620875030384003],\n",
       " 'Game-Show': [-0.0, 0.49345447345106436, -0.49345447345106436],\n",
       " 'Sport': [0.19699814392010093, 0.5919535454111148, -0.3949554014910138],\n",
       " 'Biography': [0.3061179094676092, 0.6465134281848689, -0.3403955187172597]}"
      ]
     },
     "execution_count": 5,
     "metadata": {},
     "output_type": "execute_result"
    }
   ],
   "source": [
    "def getAllEntropies(datax, datay, fields):\n",
    "    allEnt = dict()\n",
    "    for key, value in fields.items():\n",
    "        if key <= 27:\n",
    "            ent = entropy(datax[:,key])\n",
    "            entCond = entropy_cond([datax[:,key], datay])\n",
    "            allEnt[value] = [ent, entCond, ent-entCond]\n",
    "    return allEnt\n",
    "\n",
    "getAllEntropies(datax, datay, fields)"
   ]
  },
  {
   "cell_type": "markdown",
   "metadata": {},
   "source": [
    "<font color=\"blue\"> Si l'entropie a une valeur de 0 alors l'échantillon est homogène (seulement des 0 ou 1), si elle a une valeur de 1 alors l'échantillon est divisé en parts égales (autant de 0 que de 1). <br> \n",
    "Le gain d'information est calculé de la façon suivante : $entropy(T) - entropy$_$cond(T,X)$, plus cette valeur est grande plus l'information apportée par l'attribut $X$ sera pertinente et donc choisi pour faire le split. <br>\n",
    "Le meilleur attribut est \"drama\" avec un gain de 0.0065.</font>"
   ]
  },
  {
   "cell_type": "markdown",
   "metadata": {},
   "source": [
    "## <center><code style=\"background:yellow; color:black\"> Quelques expériences préliminaires </code></center>"
   ]
  },
  {
   "cell_type": "markdown",
   "metadata": {},
   "source": [
    "Tous les modèles d’apprentissage que nous étudierons seront calqués (hérités, mais la notion d’héritage en python est optionnelle) sur la classe Classifier, munie d’un constructeur (qui permet d’initialiser les paramètres, variables d’instance de l’objet), d’une méthode **fit(data,labels)** qui permet d’apprendre le modèle sur les données en paramètre, d’une méthode **predict(data)** qui permet d’obtenir un vecteur de prédiction pour les données passées en paramètre, et d’une méthode **score(data,labels)** qui permet de renvoyer le pourcentage de bonne classification des données par rapport aux labels passés en paramètre. Le code suivant permet de créer, d’apprendre un arbre de décision et de l’utiliser :"
   ]
  },
  {
   "cell_type": "code",
   "execution_count": 19,
   "metadata": {},
   "outputs": [],
   "source": [
    "###############################\n",
    "# Classes\n",
    "###############################\n",
    "\n",
    "\n",
    "class Classifier(object):\n",
    "    \"\"\" Classe generique d'un classifieur\n",
    "        Dispose de 3 méthodes :\n",
    "            fit pour apprendre\n",
    "            predict pour predire\n",
    "            score pour evaluer la precision\n",
    "    \"\"\"\n",
    "    def fit(self,data,y):\n",
    "        raise NotImplementedError(\"fit non  implemente\")\n",
    "    def predict(self,data):\n",
    "        raise NotImplementedError(\"predict non implemente\")\n",
    "    def score(self,data,y):\n",
    "        return (self.predict(data)==y).mean()\n",
    "\n",
    "\n",
    "class Split(object):\n",
    "    \"\"\" Permet de coder un split pour une variable continue\n",
    "    \"\"\"\n",
    "    def __init__(self,idvar=None,threshold=None,gain=None):\n",
    "        \"\"\"\n",
    "        :param idvar: numero de la variable de split\n",
    "        :param threshold: seuil\n",
    "        :param gain: gain d'information du split\n",
    "        :return:\n",
    "        \"\"\"\n",
    "        self.idvar=idvar\n",
    "        self.threshold=threshold\n",
    "        self.gain=gain\n",
    "\n",
    "    def predict(self,data):\n",
    "        \"\"\" Prediction pour une matrice d'exemples, -1 si <= threshold, +1 sinon\n",
    "        :param x: matrice d'exemples\n",
    "        :return: vecteur des labels\n",
    "        \"\"\"\n",
    "        if len(data.shape)==1:\n",
    "            data=data.reshape((1,data.shape[0]))\n",
    "        return [-1 if data[i,self.idvar]<=self.threshold else 1 for i in range(data.shape[0])]\n",
    "\n",
    "    @staticmethod\n",
    "    def best_gain(x,y):\n",
    "        \"\"\"  calcul le meilleur seuil pour la colonne x (1-dimension) et les labels y\n",
    "        :param x: vecteur 1d des donnees\n",
    "        ;param y: vecteur des labels\n",
    "        :return:\n",
    "        \"\"\"\n",
    "        ylen = float(y.size)\n",
    "        idx_sorted = np.argsort(x)\n",
    "        h=entropy(y)\n",
    "        xlast=x[idx_sorted[0]]\n",
    "        split_val=x[idx_sorted[0]]\n",
    "        hmin = h\n",
    "        for i in range(y.size):\n",
    "            if x[idx_sorted[i]]!=xlast:\n",
    "                htmp = entropy_cond([y[idx_sorted[:i]], y[idx_sorted[i:]]])\n",
    "                if htmp<hmin:\n",
    "                    hmin=htmp\n",
    "                    split_val=(xlast+x[idx_sorted[i]])/2.\n",
    "            xlast=x[idx_sorted[i]]\n",
    "        return (h-hmin/ylen),split_val\n",
    "\n",
    "    @staticmethod\n",
    "    def find_best_split(data,y):\n",
    "        if len(data.shape)==1:\n",
    "            data = data.reshape((1,data.shape[0]))\n",
    "        hlist = [[Split.best_gain(data[:,i],y),i] for i in range(data.shape[1])]\n",
    "        (h,threshold),idx= max(hlist)\n",
    "        return Split(idx,threshold,h)\n",
    "\n",
    "    def __str__(self):\n",
    "        return \"var %s, thresh %f (gain %f)\" %(self.idvar,self.threshold, self.gain)\n",
    "\n",
    "class Node(Classifier):\n",
    "    \"\"\" Noeud d'un arbre\n",
    "    \"\"\"\n",
    "    def __init__(self,split=None,parent=None,left=None,right=None,leaf=True,depth=-1,label=None,**kwargs):\n",
    "        \"\"\"\n",
    "        :param split:  split du noeud\n",
    "        :param parent: noeud parent, None si root\n",
    "        :param left: fils gauche\n",
    "        :param right: fils droit\n",
    "        :param leaf: boolean vrai si feuille\n",
    "        :param depth: profondeur\n",
    "        :param label: label preponderant\n",
    "        :return:\n",
    "        \"\"\"\n",
    "        self.split, self.parent, self.left, self.right, self.leaf, self.label, self.depth = \\\n",
    "                                            split, parent, left, right, leaf, label, depth\n",
    "        self.info = dict(kwargs)\n",
    "\n",
    "    def predict(self,data):\n",
    "        if len(data.shape)==1:\n",
    "            data=data.reshape((1,data.shape[0]))\n",
    "        if self.leaf:\n",
    "            return [self.label]*data.shape[0]\n",
    "        return [self.left.predict(data[i,:])[0] if res<0 else self.right.predict(data[i,:])[0]\n",
    "                for i, res in enumerate(self.split.predict(data))]\n",
    "\n",
    "    def fit(self, data, y):\n",
    "        counts=clt.Counter(y)\n",
    "        self.split=Split.find_best_split(data, y)\n",
    "        self.label = counts.most_common()[0][0]\n",
    "\n",
    "    def __str__(self):\n",
    "        if self.leaf:\n",
    "            return \"Leaf : %s\" % (self.label,)\n",
    "        return \"Node : %s (%s)\" % (self.split,self.info)\n",
    "\n",
    "class DecisionTree(Classifier):\n",
    "    \"\"\" Arbre de decision\n",
    "    \"\"\"\n",
    "\n",
    "    def __init__(self,max_depth=None,min_samples_split=2):\n",
    "        \"\"\"\n",
    "        :param max_depth: profondeur max\n",
    "        :param min_samples_split:  nombre d'exemples minimal pour pouvoir spliter le noeud\n",
    "        :return:\n",
    "        \"\"\"\n",
    "        self.max_depth, self.min_samples_split = max_depth, min_samples_split\n",
    "        self.root = None\n",
    "\n",
    "    def fit(self,data,y):\n",
    "        \"\"\" apprentissage de l'arbre de maniere iterative\n",
    "        on apprend un noeud, puis on cree les deux enfants de ce noeud, que l'on ajoute a la pile des noeuds\n",
    "        a traiter par la suite (nodes_to_treat), ainsi que les index des exemples associes (dic_idx)\n",
    "        \"\"\"\n",
    "        self.root = Node(depth=0)\n",
    "        nodes_to_treat = [self.root]\n",
    "        dic_idx = dict({self.root : range(len(y))})\n",
    "        while len(nodes_to_treat)>0:\n",
    "            # recuperation du noeud courant\n",
    "            curnode = nodes_to_treat.pop()\n",
    "            #recuperation de la liste des indices des exemples associes, x[idx_train,:] contient l'ensemble des\n",
    "            #exemples a traiter\n",
    "            idx_train = dic_idx.pop(curnode)\n",
    "            # infos complementaires sur le nombre d'exemples en apprentissage par label\n",
    "            for lab,clab in clt.Counter(y[idx_train]).items():\n",
    "                curnode.info[lab]=clab\n",
    "            curnode.fit(data[idx_train,:],y[idx_train])\n",
    "\n",
    "            # recupere les predictions pour partager entre fils droit et gauche les exemples\n",
    "            pred = curnode.split.predict(data[idx_train,:])\n",
    "            l_idx = [ idx_train[i] for i in range(len(idx_train)) if pred[i]<0 ]\n",
    "            r_idx = list(set(idx_train).difference(l_idx))\n",
    "\n",
    "            #Condition d'arrets\n",
    "            if entropy(y[idx_train])==0 or curnode.depth >= self.max_depth or \\\n",
    "                    len(l_idx) < self.min_samples_split or len(r_idx) < self.min_samples_split:\n",
    "                curnode.leaf=True\n",
    "                continue\n",
    "            #Creation des deux enfants\n",
    "            curnode.left = Node(parent=curnode,depth=curnode.depth+1)\n",
    "            curnode.right = Node(parent=curnode,depth=curnode.depth+1)\n",
    "            curnode.leaf = False\n",
    "            #On enregistre les indices correspondant aux deux noeuds\n",
    "            dic_idx[curnode.left]=l_idx\n",
    "            dic_idx[curnode.right]=r_idx\n",
    "            #On ajoute les deux enfants a la liste des noeuds a traiter\n",
    "            nodes_to_treat = [curnode.left,curnode.right]+nodes_to_treat\n",
    "\n",
    "    def predict(self,data):\n",
    "        return self.root.predict(data)\n",
    "\n",
    "    def __str__(self):\n",
    "        return self.print_tree()\n",
    "\n",
    "    def to_dot(self,dic_var=None):\n",
    "        s=\"digraph Tree {\"\n",
    "        cpt=0\n",
    "        nodes = [(self.root,cpt)]\n",
    "        while len(nodes)>0:\n",
    "            curnode,idx = nodes.pop()\n",
    "            labinfo = \",\".join([\"%s: %s\" % (lab,slab) for lab,slab in curnode.info.items()])\n",
    "            if not curnode.leaf:\n",
    "                s+=\"%d [label=\\\"%s <= %f\\n IG=%f\\n \" %(idx,curnode.split.idvar \\\n",
    "                    if not dic_var else dic_var[curnode.split.idvar],curnode.split.threshold,curnode.split.gain)\n",
    "                s+= \" %s \\n \\\",shape=\\\"box\\\" ];\\n\"  % (labinfo,)\n",
    "                lidx = cpt +1\n",
    "                ridx = cpt +2\n",
    "                s+= \"%d -> %d; %d -> %d;\\n\" % (idx,lidx,idx,ridx)\n",
    "                cpt+=2\n",
    "                nodes += [(curnode.left,lidx),(curnode.right,ridx)]\n",
    "            else:\n",
    "                s+= \"%d [label=\\\"label=%s\\n %s \\\"];\\n\" %(idx,curnode.label,labinfo)\n",
    "        return s+\"}\"\n",
    "\n",
    "    def to_pdf(self,filename,dic_var=None):\n",
    "        pydot.graph_from_dot_data(self.to_dot(dic_var))[0].write_pdf(filename)\n",
    "\n",
    "    def print_tree(self,fields=None):\n",
    "        s=\"\"\n",
    "        nodes=[self.root]\n",
    "        while len(nodes)>0:\n",
    "            curnode=nodes.pop()\n",
    "            if type(curnode)==str:\n",
    "                s+=curnode\n",
    "            else:\n",
    "                if not curnode.leaf:\n",
    "                    s+= \"\\t\"*curnode.depth + \"var %s :  > %f \\n\"  %(str(curnode.split.idvar) if not fields else fields[curnode.split.idvar],curnode.split.threshold)\n",
    "                    nodes+=[curnode.left, \"\\t\"*curnode.depth + \"var %s :  <= %f \\n\"  %(str(curnode.split.idvar) if not fields else fields[curnode.split.idvar],curnode.split.threshold), curnode.right]\n",
    "                else:\n",
    "                    s+= \"\\t\"*curnode.depth + \"class : %s %s\\n\" %(curnode.label,str(curnode.info))\n",
    "        return s\n"
   ]
  },
  {
   "cell_type": "markdown",
   "metadata": {},
   "source": [
    "4. Sur la base de données imdb, apprendre quelques arbres de profondeurs différentes. Visualiser-les. Que remarquez-vous quant au nombre d’exemples séparés à chaque niveau en fonction de la profondeur ? est-ce normal ?"
   ]
  },
  {
   "cell_type": "code",
   "execution_count": 20,
   "metadata": {},
   "outputs": [
    {
     "name": "stdout",
     "output_type": "stream",
     "text": [
      "0.736429038587312\n",
      "var Drama :  > 0.500000 \n",
      "\tvar budget :  > 15660000.000000 \n",
      "\t\tvar Duree :  > 115.500000 \n",
      "\t\t\tvar budget :  > 36500000.000000 \n",
      "\t\t\t\tvar Duree :  > 137.500000 \n",
      "\t\t\t\t\tclass : 1 {1: 101, -1: 20}\n",
      "\t\t\t\tvar Duree :  <= 137.500000 \n",
      "\t\t\t\t\tclass : 1 {-1: 94, 1: 109}\n",
      "\t\t\tvar budget :  <= 36500000.000000 \n",
      "\t\t\t\tvar Sci-Fi :  > 0.500000 \n",
      "\t\t\t\t\tclass : -1 {-1: 5, 1: 4}\n",
      "\t\t\t\tvar Sci-Fi :  <= 0.500000 \n",
      "\t\t\t\t\tclass : 1 {1: 252, -1: 31}\n",
      "\t\tvar Duree :  <= 115.500000 \n",
      "\t\t\tvar Biography :  > 0.500000 \n",
      "\t\t\t\tvar annee :  > 2011.500000 \n",
      "\t\t\t\t\tclass : -1 {-1: 2}\n",
      "\t\t\t\tvar annee :  <= 2011.500000 \n",
      "\t\t\t\t\tclass : 1 {1: 24, -1: 2}\n",
      "\t\t\tvar Biography :  <= 0.500000 \n",
      "\t\t\t\tvar Thriller :  > 0.500000 \n",
      "\t\t\t\t\tclass : -1 {-1: 162, 1: 66}\n",
      "\t\t\t\tvar Thriller :  <= 0.500000 \n",
      "\t\t\t\t\tclass : -1 {1: 135, -1: 149}\n",
      "\tvar budget :  <= 15660000.000000 \n",
      "\t\tvar annee :  > 1973.500000 \n",
      "\t\t\tvar Duree :  > 104.500000 \n",
      "\t\t\t\tvar budget :  > 11158052.500000 \n",
      "\t\t\t\t\tclass : 1 {1: 131, -1: 39}\n",
      "\t\t\t\tvar budget :  <= 11158052.500000 \n",
      "\t\t\t\t\tclass : 1 {-1: 25, 1: 321}\n",
      "\t\t\tvar Duree :  <= 104.500000 \n",
      "\t\t\t\tvar Thriller :  > 0.500000 \n",
      "\t\t\t\t\tclass : 1 {1: 57, -1: 51}\n",
      "\t\t\t\tvar Thriller :  <= 0.500000 \n",
      "\t\t\t\t\tclass : 1 {1: 239, -1: 75}\n",
      "\t\tvar annee :  <= 1973.500000 \n",
      "\t\t\tclass : 1 {1: 175}\n",
      "var Drama :  <= 0.500000 \n",
      "\tvar annee :  > 1984.500000 \n",
      "\t\tvar Duree :  > 110.500000 \n",
      "\t\t\tvar Duree :  > 134.500000 \n",
      "\t\t\t\tvar Duree :  > 177.000000 \n",
      "\t\t\t\t\tclass : 1 {1: 14}\n",
      "\t\t\t\tvar Duree :  <= 177.000000 \n",
      "\t\t\t\t\tclass : 1 {-1: 26, 1: 74}\n",
      "\t\t\tvar Duree :  <= 134.500000 \n",
      "\t\t\t\tvar annee :  > 1992.500000 \n",
      "\t\t\t\t\tclass : -1 {1: 175, -1: 184}\n",
      "\t\t\t\tvar annee :  <= 1992.500000 \n",
      "\t\t\t\t\tclass : 1 {-1: 9, 1: 30}\n",
      "\t\tvar Duree :  <= 110.500000 \n",
      "\t\t\tvar Animation :  > 0.500000 \n",
      "\t\t\t\tvar budget :  > 19000000.000000 \n",
      "\t\t\t\t\tclass : 1 {1: 84, -1: 55}\n",
      "\t\t\t\tvar budget :  <= 19000000.000000 \n",
      "\t\t\t\t\tclass : 1 {1: 12, -1: 1}\n",
      "\t\t\tvar Animation :  <= 0.500000 \n",
      "\t\t\t\tvar budget :  > 6160000.000000 \n",
      "\t\t\t\t\tclass : -1 {-1: 866, 1: 247}\n",
      "\t\t\t\tvar budget :  <= 6160000.000000 \n",
      "\t\t\t\t\tclass : -1 {-1: 123, 1: 99}\n",
      "\tvar annee :  <= 1984.500000 \n",
      "\t\tvar annee :  > 1965.500000 \n",
      "\t\t\tvar Horror :  > 0.500000 \n",
      "\t\t\t\tvar Duree :  > 86.500000 \n",
      "\t\t\t\t\tclass : 1 {-1: 20, 1: 32}\n",
      "\t\t\t\tvar Duree :  <= 86.500000 \n",
      "\t\t\t\t\tclass : -1 {1: 1, -1: 7}\n",
      "\t\t\tvar Horror :  <= 0.500000 \n",
      "\t\t\t\tvar budget :  > 33250000.000000 \n",
      "\t\t\t\t\tclass : -1 {-1: 7, 1: 2}\n",
      "\t\t\t\tvar budget :  <= 33250000.000000 \n",
      "\t\t\t\t\tclass : 1 {1: 122, -1: 29}\n",
      "\t\tvar annee :  <= 1965.500000 \n",
      "\t\t\tvar budget :  > 265500.000000 \n",
      "\t\t\t\tclass : 1 {1: 85}\n",
      "\t\t\tvar budget :  <= 265500.000000 \n",
      "\t\t\t\tvar annee :  > 1950.000000 \n",
      "\t\t\t\t\tclass : 1 {1: 4, -1: 3}\n",
      "\t\t\t\tvar annee :  <= 1950.000000 \n",
      "\t\t\t\t\tclass : 1 {1: 7}\n",
      "\n"
     ]
    }
   ],
   "source": [
    "dt = DecisionTree()\n",
    "dt.max_depth = 5 # on fixe la  taille  de l’arbre a 5\n",
    "dt.min_samples_split = 2 # nombre  minimum d’exemples  pour  spliter  un noeud\n",
    "dt.fit(datax ,datay)\n",
    "dt.predict(datax [:5 ,:])\n",
    "print(dt.score(datax ,datay)) # dessine l’arbre dans un  fichier  pdf si pydot  est  installe.\n",
    "#dt.to_pdf(\"test_tree.pdf\",fields) # sinon  utiliser  http :// www.webgraphviz.com/\n",
    "dt.to_dot(fields) #ou dans la  console\n",
    "print(dt.print_tree(fields ))"
   ]
  },
  {
   "cell_type": "markdown",
   "metadata": {},
   "source": [
    "5. Calculer les scores de bonnes classification. Comment ils évoluent en fonction de la profondeur ? Est-ce normal ?"
   ]
  },
  {
   "cell_type": "code",
   "execution_count": 21,
   "metadata": {},
   "outputs": [
    {
     "ename": "NameError",
     "evalue": "name 'scores' is not defined",
     "output_type": "error",
     "traceback": [
      "\u001b[1;31m---------------------------------------------------------------------------\u001b[0m",
      "\u001b[1;31mNameError\u001b[0m                                 Traceback (most recent call last)",
      "\u001b[1;32m<ipython-input-21-1923ad0aeb5b>\u001b[0m in \u001b[0;36m<module>\u001b[1;34m()\u001b[0m\n\u001b[0;32m     18\u001b[0m \u001b[0mplt\u001b[0m\u001b[1;33m.\u001b[0m\u001b[0mylabel\u001b[0m\u001b[1;33m(\u001b[0m\u001b[1;34m\"score\"\u001b[0m\u001b[1;33m)\u001b[0m\u001b[1;33m\u001b[0m\u001b[0m\n\u001b[0;32m     19\u001b[0m \u001b[0mplt\u001b[0m\u001b[1;33m.\u001b[0m\u001b[0mtitle\u001b[0m\u001b[1;33m(\u001b[0m\u001b[1;34m\"Evolution du score en fonction de la profondeur\"\u001b[0m\u001b[1;33m)\u001b[0m\u001b[1;33m\u001b[0m\u001b[0m\n\u001b[1;32m---> 20\u001b[1;33m \u001b[0max\u001b[0m\u001b[1;33m.\u001b[0m\u001b[0mplot\u001b[0m\u001b[1;33m(\u001b[0m\u001b[0mnp\u001b[0m\u001b[1;33m.\u001b[0m\u001b[0marange\u001b[0m\u001b[1;33m(\u001b[0m\u001b[0mlen\u001b[0m\u001b[1;33m(\u001b[0m\u001b[0mscores\u001b[0m\u001b[1;33m)\u001b[0m\u001b[1;33m)\u001b[0m\u001b[1;33m,\u001b[0m \u001b[0mscores\u001b[0m\u001b[1;33m,\u001b[0m \u001b[0mcolor\u001b[0m\u001b[1;33m=\u001b[0m\u001b[1;34m'tab:blue'\u001b[0m\u001b[1;33m)\u001b[0m\u001b[1;33m\u001b[0m\u001b[0m\n\u001b[0m",
      "\u001b[1;31mNameError\u001b[0m: name 'scores' is not defined"
     ]
    },
    {
     "data": {
      "image/png": "[encoded data removed]",
      "text/plain": [
       "<Figure size 432x288 with 1 Axes>"
      ]
     },
     "metadata": {},
     "output_type": "display_data"
    }
   ],
   "source": [
    "def getScores(datax, labels, nprof):\n",
    "    dt = DecisionTree()\n",
    "    scores = []\n",
    "    for i in range(1, nprof+1):\n",
    "        dt.max_depth = i # on fixe la  taille  de l’arbre a 5\n",
    "        dt.min_samples_split = 2 # nombre  minimum d’exemples  pour  spliter  un noeud\n",
    "        dt.fit(datax, labels)\n",
    "        dt.predict(datax [:5 ,:])\n",
    "        scores.append(dt.score(datax, labels))\n",
    "    return scores\n",
    "\n",
    "# scores = getScores(datax, datay, 10)\n",
    "\n",
    "# Affichage évolution des scores\n",
    "fig = plt.figure()\n",
    "ax = fig.add_subplot(1, 1, 1)\n",
    "plt.xlabel(\"profondeur\")\n",
    "plt.ylabel(\"score\")\n",
    "plt.title(\"Evolution du score en fonction de la profondeur\")\n",
    "ax.plot(np.arange(len(scores)), scores, color='tab:blue')\n"
   ]
  },
  {
   "cell_type": "markdown",
   "metadata": {},
   "source": [
    "<font color=\"blue\"> Plus la profondeur est grande et plus le score augmente, c'est tout à fait normal car notre arbre de décision \"se cale sur nos données\" rendant la prédiction de plus en plus précise => sur-apprentissage </font>"
   ]
  },
  {
   "cell_type": "markdown",
   "metadata": {},
   "source": [
    "6. Ces scores sont-ils un indicateur fiable du comportement de l’algorithme ? Comment obtenir un indicateur plus fiable ?"
   ]
  },
  {
   "cell_type": "markdown",
   "metadata": {},
   "source": [
    "<font color=\"blue\"> Ces scores ne sont évidemment pas fiables car nos données qui nous servent à faire la prédiction sont les mêmes qui nous servent d'apprentissage, il faudrait séparer nos données en deux parties : apprentissage et test </font>"
   ]
  },
  {
   "cell_type": "markdown",
   "metadata": {},
   "source": [
    "## <center><code style=\"background:yellow; color:black\"> Sur et sous apprentissage </code></center>"
   ]
  },
  {
   "cell_type": "markdown",
   "metadata": {},
   "source": [
    "Pour obtenir une meilleure estimation de l’erreur du classifieur appris, il est usuel d’utiliser deux ensembles d’exemples étiquetés :\n",
    "<ul>\n",
    "    <li>l’ensemble d’apprentissage : l’apprentissage du classifieur ne se fait que sur ce sous-ensemble d’exemples ; </li>\n",
    "    <li>l’ensemble de test : cet ensemble sert à évaluer l’erreur du classifieur. </li> \n",
    "</ul>\n",
    "Ces deux sous-ensembles sont tirés de manière aléatoire en faisant une partition en 2 parties des exemples disponibles. L’erreur faîte sur l’ensemble d’apprentissage s’appelle l’erreur d’apprentissage, celle sur l’ensemble de test l’erreur de test."
   ]
  },
  {
   "cell_type": "markdown",
   "metadata": {},
   "source": [
    "7. Pour différents partitionnement, par exemple des partages en (0.2,0.8), (0.5,0.5), (0.8,0.2), tracer les courbes de l’erreur en apprentissage et de l’erreur en test en fonction de la profondeur du modèle."
   ]
  },
  {
   "cell_type": "code",
   "execution_count": null,
   "metadata": {},
   "outputs": [],
   "source": [
    "def splitTrainTest(data, labels, pc_train):\n",
    "    index = np.random.permutation(len(labels))\n",
    "    napp = int(len(labels)*pc_train) \n",
    "    X_train, y_train = data[index[:napp]], labels[index[:napp]]\n",
    "    X_test, y_test   = data[index[napp:]], labels[index[napp:]]\n",
    "    return X_train, y_train, X_test, y_test"
   ]
  },
  {
   "cell_type": "code",
   "execution_count": null,
   "metadata": {},
   "outputs": [],
   "source": [
    "def getErrors(data, labels, nprof, pc_train):\n",
    "    dt = DecisionTree()\n",
    "    errApp = []\n",
    "    errTest = []\n",
    "    X_train, y_train, X_test, y_test = splitTrainTest(data, labels, pc_train)\n",
    "    for i in range(1, nprof+1):\n",
    "        dt.max_depth = i # on fixe la  taille  de l’arbre a 5\n",
    "        dt.min_samples_split = 2 # nombre  minimum d’exemples  pour  spliter  un noeud\n",
    "        dt.fit(X_train, y_train)\n",
    "        dt.predict(X_test)\n",
    "        errApp.append(1 - dt.score(X_train, y_train))\n",
    "        errTest.append(1 - dt.score(X_test, y_test))\n",
    "    return errApp, errTest\n",
    "\n",
    "errApp_08, errTest_02 = getErrors(datax, datay, 20, 0.8)\n",
    "errApp_05, errTest_05 = getErrors(datax, datay, 20, 0.5)\n",
    "errApp_02, errTest_08 = getErrors(datax, datay, 20, 0.2)\n",
    "\n",
    "# Affichage évolution des erreurs\n",
    "fig = plt.figure()\n",
    "ax = fig.add_subplot(1, 1, 1)\n",
    "plt.xlabel(\"profondeur\")\n",
    "plt.ylabel(\"erreur\")\n",
    "plt.title(\"Evolution de l'erreur en fonction de la profondeur 0.2/0.8\")\n",
    "ax.plot(np.arange(len(errApp_02)), errApp_02, color='tab:blue')\n",
    "ax.plot(np.arange(len(errTest_08)), errTest_08, color='tab:orange')\n",
    "\n",
    "fig = plt.figure()\n",
    "ax = fig.add_subplot(1, 1, 1)\n",
    "plt.xlabel(\"profondeur\")\n",
    "plt.ylabel(\"erreur\")\n",
    "plt.title(\"Evolution de l'erreur en fonction de la profondeur 0.5/0.5\")\n",
    "ax.plot(np.arange(len(errApp_05)), errApp_05, color='tab:blue')\n",
    "ax.plot(np.arange(len(errTest_05)), errTest_05, color='tab:orange')\n",
    "\n",
    "fig = plt.figure()\n",
    "ax = fig.add_subplot(1, 1, 1)\n",
    "plt.xlabel(\"profondeur\")\n",
    "plt.ylabel(\"erreur\")\n",
    "plt.title(\"Evolution de l'erreur en fonction de la profondeur 0.8/0.2\")\n",
    "ax.plot(np.arange(len(errApp_08)), errApp_08, color='tab:blue')\n",
    "ax.plot(np.arange(len(errTest_02)), errTest_02, color='tab:orange')"
   ]
  },
  {
   "cell_type": "markdown",
   "metadata": {},
   "source": [
    "8. Que remarquez vous quand il y a peu d’exemples d’apprentissage ? Comment progresse l’erreur ? De même quand il y a beaucoup d’exemples d’apprentissage. Est-ce le même comportement pour les deux erreurs ?"
   ]
  },
  {
   "cell_type": "markdown",
   "metadata": {},
   "source": [
    "<font color=\"blue\"> Lorsqu'il y a peu d'exemples "
   ]
  },
  {
   "cell_type": "markdown",
   "metadata": {},
   "source": [
    "9. Vos résultats vous semblent ils fiables et stables ? Comment les améliorer ?"
   ]
  },
  {
   "cell_type": "markdown",
   "metadata": {},
   "source": [
    "<font color=\"blue\"> Non. Cross-validation </font>"
   ]
  },
  {
   "cell_type": "markdown",
   "metadata": {},
   "source": [
    "## <center><code style=\"background:yellow; color:black\"> Validation croisée : sélection de modèle </code></center>"
   ]
  },
  {
   "cell_type": "markdown",
   "metadata": {},
   "source": [
    "Il est rare de disposer en pratique d’un ensemble de test (on préfère inclure le plus grand nombre de données dans l’ensemble d’apprentissage). Pour sélectionner un modèle tout en considérant le plus grand nombre d’exemples possible pour l’apprentissage, on utilise généralement une procédure dite de sélection par validation croisée. Pour chaque paramétrisation de l’algorithme, une estimation de l’erreur empirique du classifieur appris est faîte selon la procédure suivante :\n",
    "<ul>\n",
    "    <li>l’ensemble d’apprentissage $E_{app}$ est partitionné en *n* ensembles d’apprentissage ${E_i}$ </li>\n",
    "    <li>Pour $i = 1..n$ </li>\n",
    "        <ul>\n",
    "            <li> l’arbre est appris sur $E_{app}$ \\ $E_i$ </li>\n",
    "            <li> l’erreur en test $err(E_i)$ est évaluée sur $E_i$ (qui n’a pas servi à l’apprentissage à cette itération) </li>\n",
    "            <li> l’erreur moyenne $err = \\frac{1}{n} \\sum_{i=1}^{n}err(E_i)$ est calculée, le modèle sélectionné est celui qui minimise cette erreur </li>\n",
    "        </ul>\n",
    "</ul>\n",
    "<br>\n",
    "Refaire les expériences précédentes avec cette fois de la validation croisée (penser à la fonction **np.random.shuffle**)."
   ]
  },
  {
   "cell_type": "code",
   "execution_count": 88,
   "metadata": {},
   "outputs": [],
   "source": [
    "def shuffle(data, labels):\n",
    "    index = np.random.shuffle(np.arange(len(labels)))\n",
    "    data_shu = data[index]\n",
    "    labels_shu = labels[index]\n",
    "    return data_shu, labels_shu\n",
    "\n",
    "def cross_validation(data, labels, n, nprof):\n",
    "    # Step 1 : Shuffle\n",
    "    data_shu, labels_shu = shuffle(data, labels)\n",
    "    \n",
    "    # Step 2 : split equals parts\n",
    "    inter = np.linspace(0, len(labels), n+1)\n",
    "    print(inter)\n",
    "    \n",
    "    # Step 3 : initiate decision tree\n",
    "    dt = DecisionTree()\n",
    "    dt.max_depth = nprof\n",
    "    dt.min_samples_split = 2 #nombre  minimum d’exemples  pour  spliter  un noeud\n",
    "    mean_err = []\n",
    "    \n",
    "    # Step 4 : iterate over data\n",
    "    for i in range(n):\n",
    "        test_x, test_y = data_shu[0][ int(inter[i]): int(inter[i+1]) ], labels_shu[0][ int(inter[i]) : int(inter[i+1]) ]\n",
    "        if i == 0:\n",
    "            train_x, train_y = data_shu[0][ int(inter[1]) : int(inter[n-1]) ], labels_shu[0][ int(inter[1]) : int(inter[n-1]) ]\n",
    "        elif i == n-2:\n",
    "            train_x, train_y = data_shu[0][ int(inter[0]) : int(inter[n-2]) ], labels_shu[0][ int(inter[0]) : int(inter[n-2])]\n",
    "        else:\n",
    "            train_x = np.vstack( ( data_shu[0][ int(inter[0]) : int(inter[i]) ], data_shu[0][ int(inter[i+1]) : int(inter[n-1]) ] ) ) \n",
    "            train_y = np.hstack( ( labels_shu[0][ int(inter[0]) : int(inter[i]) ], labels_shu[0][ int(inter[i+1]) : int(inter[n-1]) ] ) )\n",
    "            \n",
    "        dt.fit(train_x, train_y)\n",
    "        dt.predict(test_x)\n",
    "        mean_err.append(1 - dt.score(test_x, test_y))\n",
    "        \n",
    "    return np.array(mean_err).mean()"
   ]
  },
  {
   "cell_type": "code",
   "execution_count": null,
   "metadata": {},
   "outputs": [],
   "source": [
    "mean_err = []\n",
    "for i in range(1, 11):\n",
    "    mean_err.append(cross_validation(datax, datay, 10, i))"
   ]
  },
  {
   "cell_type": "code",
   "execution_count": 92,
   "metadata": {},
   "outputs": [
    {
     "data": {
      "text/plain": [
       "[<matplotlib.lines.Line2D at 0x285d6521400>]"
      ]
     },
     "execution_count": 92,
     "metadata": {},
     "output_type": "execute_result"
    },
    {
     "data": {
      "image/png": "[encoded data removed]",
      "text/plain": [
       "<Figure size 432x288 with 1 Axes>"
      ]
     },
     "metadata": {},
     "output_type": "display_data"
    }
   ],
   "source": [
    "fig = plt.figure()\n",
    "ax = fig.add_subplot(1, 1, 1)\n",
    "plt.xlabel(\"profondeur\")\n",
    "plt.ylabel(\"erreur moy\")\n",
    "plt.title(\"Evolution de l'erreur moy selon la profondeur ; CV kfold = 10\")\n",
    "ax.plot(np.arange(1,len(mean_err)+1), mean_err, color='tab:blue')"
   ]
  },
  {
   "cell_type": "code",
   "execution_count": null,
   "metadata": {},
   "outputs": [],
   "source": []
  }
 ],
 "metadata": {
  "kernelspec": {
   "display_name": "Python 3",
   "language": "python",
   "name": "python3"
  },
  "language_info": {
   "codemirror_mode": {
    "name": "ipython",
    "version": 3
   },
   "file_extension": ".py",
   "mimetype": "text/x-python",
   "name": "python",
   "nbconvert_exporter": "python",
   "pygments_lexer": "ipython3",
   "version": "3.6.5"
  }
 },
 "nbformat": 4,
 "nbformat_minor": 2
}
