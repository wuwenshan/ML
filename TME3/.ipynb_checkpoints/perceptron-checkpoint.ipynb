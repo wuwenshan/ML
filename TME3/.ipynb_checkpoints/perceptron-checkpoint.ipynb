{
 "cells": [
  {
   "cell_type": "markdown",
   "metadata": {},
   "source": [
    "# <center><font color='red'> TME 3 - Descente de gradient, Perceptron </font></center>"
   ]
  },
  {
   "cell_type": "markdown",
   "metadata": {},
   "source": [
    "## <center><code style=\"background:yellow; color:black\"> Perceptron </code></center>"
   ]
  },
  {
   "cell_type": "markdown",
   "metadata": {},
   "source": [
    "Télécharger les fichiers sources du TME (**tme_etu.py** et **arftools.py**) et compléter dans **tme_etu.py** les fonctions :\n",
    "<ul>\n",
    "    <li> $hinge(datax,datay,w)$, coût du perceptron : $hinge(x,y,w) = max(0,−y <x.w>)$ </li>\n",
    "    <li> $hinge$_$grad(datax,datay,w)$ son gradient. </li>\n",
    "    <li> $mse(datax,datay,w)$, coût des moindres carrés </li>\n",
    "    <li> $mse_g(datax,datay,w)$, gradient du coût aux moindres carrés. </li>\n",
    "</ul>\n",
    "Ces fonctions renverront la moyenne de l’erreur et du gradient sur l’ensemble des données **datax**."
   ]
  },
  {
   "cell_type": "markdown",
   "metadata": {},
   "source": [
    "**Attention !** <br>\n",
    "Vos fonctions doivent pouvoir prendre en entrée des matrices : $X ∈ R^{n,d}$, $W ∈ R^{1,d}$, $Y ∈ R^{n,1}$. Il y a quelques pièges pour la manipulation des matrices avec **numpy** : \n",
    "<ul>\n",
    "    <li> l’opérateur ∗ permet de multiplier termes à termes deux matrices de même dimension, mais parfois il fait le produit matriciel lorsque les matrices n’ont pas des tailles compatibles (par exemple (1,d) et (d,1)) ! </li>\n",
    "    <li> l’opérateur $ndarray.dot()$ permet de faire la multiplication matricielle. </li>\n",
    "    <li> faites le moins possible de boucles (aucune dans le cas des deux fonctions précédentes) ! Python est très lent dans ce cas ... </li>\n",
    "    <li> parfois vous passerez une matrice en entrée, parfois un vecteur (lorsque vous ne sélectionnerez qu’une ligne des exemples), or les opérateurs n’auront pas le même comportement selon les cas : un vecteur en $numpy$ est une matrice telle que $shape$ renvoie une seule valeur. Transformer de préférence vos entrées de la manière suivante ($datax$ matrice d’exemples, $datay$ de labels) : $datax,datay = datax.reshape(len(datay),-1),datay.reshape(-1,1)$ ou $if len(datax.shape)==1: datax = datax.reshape(1,-1)$. </li>\n",
    "    <li> Penser à utiliser $np.sign$ et $np.maximum$ </li>\n",
    "</ul>"
   ]
  },
  {
   "cell_type": "markdown",
   "metadata": {},
   "source": [
    "Vérifier que votre code fonctionne en traçant la surface de l’erreur sur un exemple 2D à l’aide de la fonction **plot_error** fournie. <br> Compléter le code de la classe **Linéraire** pour implémenter une descente de gradient sur le coût passé en argument (la classe représentera ainsi un perceptron si la fonction de coût **hinge** est passée, une régression linéaire si la fonction de coût des moindres carrés est passé). \n",
    "<ul>\n",
    "    <li> Tester sur un exemple simple (type deux gaussiennes, utiliser la fonction **gen_arti()** fournie). </li>\n",
    "    <li> Tracer la trajectoire de l’apprentissage dans l’espace des poids et les frontières obtenues dans l’espace de représentation des exemples.</li>\n",
    "    <li> Modifier vos fonctions afin de permettre la prise en compte d’un biais. </li>\n",
    "    <li> (bonus) Modifier vos fonctions afin de permettre une descente de gradient stochastique et/ou mini-batch.</li>\n",
    "</ul>"
   ]
  },
  {
   "cell_type": "code",
   "execution_count": 1,
   "metadata": {},
   "outputs": [],
   "source": [
    "import numpy as np\n",
    "#from mpl_toolkits.mplot3d import Axes3D\n",
    "import matplotlib.pyplot as plt\n",
    "from matplotlib import cm\n",
    "import collections"
   ]
  },
  {
   "cell_type": "code",
   "execution_count": 2,
   "metadata": {},
   "outputs": [],
   "source": [
    "def plot_data(data,labels=None):\n",
    "    \"\"\"\n",
    "    Affiche des donnees 2D\n",
    "    :param data: matrice des donnees 2d\n",
    "    :param labels: vecteur des labels (discrets)\n",
    "    :return:\n",
    "    \"\"\"\n",
    "    cols,marks = [\"red\", \"green\", \"blue\", \"orange\", \"black\", \"cyan\"],[\".\",\"+\",\"*\",\"o\",\"x\",\"^\"]\n",
    "    if labels is None:\n",
    "        plt.scatter(data[:,0],data[:,1],marker=\"x\")\n",
    "        return\n",
    "    for i,l in enumerate(sorted(list(set(labels.flatten())))):\n",
    "        plt.scatter(data[labels==l,0],data[labels==l,1],c=cols[i],marker=marks[i])\n",
    "\n",
    "def plot_frontiere(data,f,step=20):\n",
    "    \"\"\" Trace un graphe de la frontiere de decision de f\n",
    "    :param data: donnees\n",
    "    :param f: fonction de decision\n",
    "    :param step: pas de la grille\n",
    "    :return:\n",
    "    \"\"\"\n",
    "    grid,x,y=make_grid(data=data,step=step)\n",
    "    plt.contourf(x,y,f(grid).reshape(x.shape),colors=('gray','blue'),levels=[-1,0,1])\n",
    "\n",
    "def make_grid(data=None,xmin=-5,xmax=5,ymin=-5,ymax=5,step=20):\n",
    "    \"\"\" Cree une grille sous forme de matrice 2d de la liste des points\n",
    "    :param data: pour calcluler les bornes du graphe\n",
    "    :param xmin: si pas data, alors bornes du graphe\n",
    "    :param xmax:\n",
    "    :param ymin:\n",
    "    :param ymax:\n",
    "    :param step: pas de la grille\n",
    "    :return: une matrice 2d contenant les points de la grille\n",
    "    \"\"\"\n",
    "    if data is not None:\n",
    "        xmax, xmin, ymax, ymin = np.max(data[:,0]),  np.min(data[:,0]), np.max(data[:,1]), np.min(data[:,1])\n",
    "    x, y =np.meshgrid(np.arange(xmin,xmax,(xmax-xmin)*1./step), np.arange(ymin,ymax,(ymax-ymin)*1./step))\n",
    "    grid=np.c_[x.ravel(),y.ravel()]\n",
    "    return grid, x, y\n",
    "\n",
    "def gen_arti(centerx=1,centery=1,sigma=0.1,nbex=1000,data_type=0,epsilon=0.02):\n",
    "    \"\"\" Generateur de donnees,\n",
    "        :param centerx: centre des gaussiennes\n",
    "        :param centery:\n",
    "        :param sigma: des gaussiennes\n",
    "        :param nbex: nombre d'exemples\n",
    "        :param data_type: 0: melange 2 gaussiennes, 1: melange 4 gaussiennes, 2:echequier\n",
    "        :param epsilon: bruit dans les donnees\n",
    "        :return: data matrice 2d des donnnes,y etiquette des donnnees\n",
    "    \"\"\"\n",
    "    if data_type==0:\n",
    "        #melange de 2 gaussiennes\n",
    "        xpos=np.random.multivariate_normal([centerx,centerx],np.diag([sigma,sigma]),nbex//2)\n",
    "        xneg=np.random.multivariate_normal([-centerx,-centerx],np.diag([sigma,sigma]),nbex//2)\n",
    "        data=np.vstack((xpos,xneg))\n",
    "        y=np.hstack((np.ones(nbex//2),-np.ones(nbex//2)))\n",
    "    if data_type==1:\n",
    "        #melange de 4 gaussiennes\n",
    "        xpos=np.vstack((np.random.multivariate_normal([centerx,centerx],np.diag([sigma,sigma]),nbex//4),np.random.multivariate_normal([-centerx,-centerx],np.diag([sigma,sigma]),nbex//4)))\n",
    "        xneg=np.vstack((np.random.multivariate_normal([-centerx,centerx],np.diag([sigma,sigma]),nbex//4),np.random.multivariate_normal([centerx,-centerx],np.diag([sigma,sigma]),nbex//4)))\n",
    "        data=np.vstack((xpos,xneg))\n",
    "        y=np.hstack((np.ones(nbex//2),-np.ones(nbex//2)))\n",
    "\n",
    "    if data_type==2:\n",
    "        #echiquier\n",
    "        data=np.reshape(np.random.uniform(-4,4,2*nbex),(nbex,2))\n",
    "        y=np.ceil(data[:,0])+np.ceil(data[:,1])\n",
    "        y=2*(y % 2)-1\n",
    "    # un peu de bruit\n",
    "    data[:,0]+=np.random.normal(0,epsilon,nbex)\n",
    "    data[:,1]+=np.random.normal(0,epsilon,nbex)\n",
    "    # on mélange les données\n",
    "    idx = np.random.permutation((range(y.size)))\n",
    "    data=data[idx,:]\n",
    "    y=y[idx]\n",
    "    return data,y"
   ]
  },
  {
   "cell_type": "code",
   "execution_count": 99,
   "metadata": {},
   "outputs": [],
   "source": [
    "def mse(datax,datay,w):\n",
    "    \"\"\" retourne la moyenne de l'erreur aux moindres carres \"\"\"\n",
    "    return np.mean( np.power( datax.dot(w.T) - datay, 2 ) )\n",
    "\n",
    "def mse_g(datax,datay,w):\n",
    "    \"\"\" retourne le gradient moyen de l'erreur au moindres carres \"\"\"\n",
    "    return np.mean( 2 * ( datax.dot(w.T) - datay ) )\n",
    "\n",
    "def hinge(datax,datay,w):\n",
    "    \"\"\" retourne la moyenne de l'erreur hinge \"\"\"\n",
    "    return np.mean( np.maximum(0, -datay * datax.dot(w.T)) )\n",
    "\n",
    "def hinge_g(datax,datay,w):\n",
    "    \"\"\" retourne le gradient moyen de l'erreur hinge \"\"\"\n",
    "    cost = -np.sign(hinge(datax, datay, w)) * datax * datay\n",
    "    return (np.sum(cost, axis=0) / len(datax))  # Normalisation\n",
    "\n",
    "class Lineaire(object):\n",
    "    \n",
    "    def __init__(self, loss = hinge, loss_g = hinge_g, max_iter = 1000, eps = 0.01):\n",
    "        \"\"\" :loss: fonction de cout\n",
    "            :loss_g: gradient de la fonction de cout\n",
    "            :max_iter: nombre d'iterations\n",
    "            :eps: pas de gradient\n",
    "        \"\"\"\n",
    "        self.max_iter, self.eps = max_iter,eps\n",
    "        self.loss, self.loss_g = loss, loss_g\n",
    "\n",
    "    def fit(self, datax, datay, testx = None, testy = None):\n",
    "        \"\"\" :datax: donnees de train\n",
    "            :datay: label de train\n",
    "            :testx: donnees de test\n",
    "            :testy: label de test\n",
    "        \"\"\"\n",
    "        # on transforme datay en vecteur colonne\n",
    "        datay = datay.reshape(-1,1)\n",
    "        N = len(datay)\n",
    "        datax = datax.reshape(N,-1)\n",
    "        D = datax.shape[1]\n",
    "        self.w = np.random.random((1,D))\n",
    "        for i in range(self.max_iter):\n",
    "            self.w -= self.eps * self.loss_g(datax, datay, self.w)\n",
    "\n",
    "\n",
    "    def predict(self, datax):\n",
    "        if len(datax.shape)==1:\n",
    "            datax = datax.reshape(1,-1)\n",
    "        return np.sign( np.dot(datax, self.w.T) )\n",
    "\n",
    "    def score(self, datax, datay):\n",
    "        return (1 - np.mean((self.predict(datax) == datay[:, np.newaxis])))\n",
    "\n",
    "\n",
    "def load_usps(fn):\n",
    "    with open(fn,\"r\") as f:\n",
    "        f.readline()\n",
    "        data = [[float(x) for x in l.split()] for l in f if len(l.split())>2]\n",
    "    tmp=np.array(data)\n",
    "    return tmp[:,1:],tmp[:,0].astype(int)\n",
    "\n",
    "def show_usps(data):\n",
    "    plt.imshow(data.reshape((16,16)),interpolation=\"nearest\",cmap=\"gray\")\n",
    "\n",
    "\n",
    "\n",
    "def plot_error(datax,datay,f,step=10):\n",
    "    grid,x1list,x2list=make_grid(xmin=-4,xmax=4,ymin=-4,ymax=4)\n",
    "    plt.contourf(x1list,x2list,np.array([f(datax,datay,w) for w in grid]).reshape(x1list.shape),25)\n",
    "    plt.colorbar()\n",
    "    plt.show()\n"
   ]
  },
  {
   "cell_type": "code",
   "execution_count": 73,
   "metadata": {},
   "outputs": [
    {
     "data": {
      "image/png": "[encoded data removed]",
      "text/plain": [
       "<Figure size 432x288 with 2 Axes>"
      ]
     },
     "metadata": {},
     "output_type": "display_data"
    },
    {
     "data": {
      "image/png": "[encoded data removed]",
      "text/plain": [
       "<Figure size 432x288 with 2 Axes>"
      ]
     },
     "metadata": {},
     "output_type": "display_data"
    },
    {
     "name": "stdout",
     "output_type": "stream",
     "text": [
      "before :  [[0.43970663 0.06830775]]\n",
      "after :  [[2165.37255344 2165.00115457]]\n",
      "Erreur : train 0.083000, test 0.084000\n"
     ]
    },
    {
     "data": {
      "image/png": "[encoded data removed]",
      "text/plain": [
       "<Figure size 432x288 with 1 Axes>"
      ]
     },
     "metadata": {},
     "output_type": "display_data"
    }
   ],
   "source": [
    "\"\"\" Tracer des isocourbes de l'erreur \"\"\"\n",
    "plt.ion()\n",
    "trainx,trainy =  gen_arti(nbex=1000,data_type=0,epsilon=1)\n",
    "testx,testy =  gen_arti(nbex=1000,data_type=0,epsilon=1)\n",
    "plt.figure()\n",
    "plot_error(trainx,trainy,mse)\n",
    "plt.figure()\n",
    "plot_error(trainx,trainy,hinge)\n",
    "perceptron = Lineaire(mse,mse_g,max_iter=1000,eps=0.1)\n",
    "perceptron.fit(trainx,trainy)\n",
    "perceptron.predict(testx)\n",
    "print(\"Erreur : train %f, test %f\"% (perceptron.score(trainx,trainy),perceptron.score(testx,testy)))\n",
    "plt.figure()\n",
    "plot_frontiere(trainx,perceptron.predict,200)\n",
    "plot_data(trainx,trainy)"
   ]
  },
  {
   "cell_type": "markdown",
   "metadata": {},
   "source": [
    "## <center><code style=\"background:yellow; color:black\"> Données USPS </code></center>"
   ]
  },
  {
   "cell_type": "markdown",
   "metadata": {},
   "source": [
    "Tester vos algorithmes sur les données USPS (chiffres manuscrits - en ne choisissant que deux classes parmi les 10) du TME3 de MAPSI http://www-connex.lip6.fr/~baskiotisn/ARF17/USPS.zip. Observer la valeur des poids. <br> Utiliser le code suivant pour lire le fichier de données :"
   ]
  },
  {
   "cell_type": "code",
   "execution_count": 5,
   "metadata": {},
   "outputs": [],
   "source": [
    "def load_usps(filename):\n",
    "    with open(filename,\"r\") as f:\n",
    "        f.readline()\n",
    "        data =[ [float(x) for x in l.split()] for l in f if len(l.split())>2]\n",
    "    tmp = np.array(data)\n",
    "    return tmp[:,1:],tmp[:,0].astype(int)"
   ]
  },
  {
   "cell_type": "markdown",
   "metadata": {},
   "source": [
    "La fonction ci-dessous permet d’afficher une donnée :"
   ]
  },
  {
   "cell_type": "code",
   "execution_count": 6,
   "metadata": {},
   "outputs": [],
   "source": [
    "def show_usps(data):\n",
    "    plt.imshow(data.reshape((16,16)), interpolation=\"nearest\", cmap=\"gray\")\n",
    "    plt.colorbar()"
   ]
  },
  {
   "cell_type": "markdown",
   "metadata": {},
   "source": [
    "<ul>\n",
    "    <li> Sur quelques exemples de problèmes 2 classes (6 vs 9, 1 vs 8 par exemple), entraîner votre perceptron et visualiser la matrice de poids obtenue sans le biais. </li>\n",
    "    <li> Observer la matrice de poids obtenue lorsque vous entraînez le perceptron avec une classe (6 par exemple) contre toutes les autres classes. </li>\n",
    "    <li> En utilisant les données de test, tracer les courbes d’erreurs en apprentissage et en test en fonction du nombre d’itérations. Observez-vous du sur-apprentissage ? </li>\n",
    "</ul>"
   ]
  },
  {
   "cell_type": "code",
   "execution_count": 77,
   "metadata": {},
   "outputs": [],
   "source": [
    "trainx, trainy = load_usps(\"usps_train.txt\")\n",
    "testx, testy = load_usps(\"usps_test.txt\")"
   ]
  },
  {
   "cell_type": "code",
   "execution_count": 100,
   "metadata": {},
   "outputs": [],
   "source": [
    "def c1_vs_c2(trainx, trainy, testx, testy, c1, c2, it=1000, eps=0.1):\n",
    "    # Uniquement les classes c1 et c2\n",
    "    train_x = trainx[ np.where( (trainy == c1) | (trainy == c2) ) ]\n",
    "    train_y = np.delete(trainy, np.where( (trainy != c1) & (trainy != c2) ) )\n",
    "    \n",
    "    test_x = testx[ np.where( (testy == c1) | (testy == c2) ) ]\n",
    "    test_y = np.delete(testy, np.where( (testy != c1) & (testy != c2) ) )\n",
    "    \n",
    "    # Conversion c1 => -1 et c2 => 1\n",
    "    trainBin_y = np.where(train_y == c1, -1, 1)\n",
    "    testBin_y = np.where(test_y == c1, -1, 1)\n",
    "    \n",
    "    perceptron = Lineaire(hinge,hinge_g,max_iter=1000,eps=0.1)\n",
    "    perceptron.fit(train_x, trainBin_y)\n",
    "    perceptron.predict(test_x)\n",
    "    print(\"Erreur : train %f, test %f\"% (perceptron.score(train_x, trainBin_y),perceptron.score(test_x, testBin_y)))\n",
    "    \n",
    "    return None"
   ]
  },
  {
   "cell_type": "code",
   "execution_count": 101,
   "metadata": {},
   "outputs": [
    {
     "name": "stdout",
     "output_type": "stream",
     "text": [
      "Erreur : train 0.155139, test 0.193023\n"
     ]
    }
   ],
   "source": [
    "c1_vs_c2(trainx, trainy, testx, testy, 1, 8)"
   ]
  },
  {
   "cell_type": "code",
   "execution_count": null,
   "metadata": {},
   "outputs": [],
   "source": []
  }
 ],
 "metadata": {
  "kernelspec": {
   "display_name": "Python 3",
   "language": "python",
   "name": "python3"
  },
  "language_info": {
   "codemirror_mode": {
    "name": "ipython",
    "version": 3
   },
   "file_extension": ".py",
   "mimetype": "text/x-python",
   "name": "python",
   "nbconvert_exporter": "python",
   "pygments_lexer": "ipython3",
   "version": "3.6.5"
  }
 },
 "nbformat": 4,
 "nbformat_minor": 2
}
