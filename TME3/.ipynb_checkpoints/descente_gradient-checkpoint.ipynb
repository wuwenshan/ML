{
 "cells": [
  {
   "cell_type": "markdown",
   "metadata": {},
   "source": [
    "# <center><font color='red'> TME 3 - Descente de gradient </font></center>"
   ]
  },
  {
   "cell_type": "markdown",
   "metadata": {},
   "source": [
    "## <center><code style=\"background:yellow; color:black\"> Algorithme de descente de gradient </code></center>"
   ]
  },
  {
   "cell_type": "markdown",
   "metadata": {},
   "source": [
    "L’algorithme de descente de gradient permet d’approcher le minimum d’une fonction convexe de manière itérée selon la formule de mise-à-jour de $x^t$ à l’instant $t$ suivant : $x^{t+1} = x^t − \\epsilon * ∇f(x^t)$. Coder une fonction **optimize(fonc, dfonc, xinit, eps, max_iter)** qui implémente l’algorithme du gradient avec en paramètre : **fonc** la fonction à optimiser, **dfonc** le gradient de cette fonction, **xinit** le point initial, **eps** le pas de gradient, **max_iter** le nombre d’itérations. Cette fonction doit rendre un triplet **(x_histo, f_histo, grad_histo)**, respectivement la liste des points $x^t, f(x^t)$ et $∇f(x^t)$. Pour cela vous pouvez utiliser une liste pour stocker au fur et à mesure les points, puis transformer chaque liste en un tableau **np.array**."
   ]
  },
  {
   "cell_type": "code",
   "execution_count": 205,
   "metadata": {},
   "outputs": [],
   "source": [
    "import numpy as np\n",
    "from math import *\n",
    "from numpy import random\n",
    "import matplotlib.pyplot as plt\n",
    "from matplotlib import cm\n",
    "from mpl_toolkits.mplot3d import Axes3D"
   ]
  },
  {
   "cell_type": "code",
   "execution_count": 206,
   "metadata": {},
   "outputs": [],
   "source": [
    "def derive(function, value):\n",
    "    h = 0.00000000001\n",
    "    top = function(value + h) - function(value)\n",
    "    bottom = h\n",
    "    slope = top / bottom    # Returns the slope to the third decimal\n",
    "    return float(\"%.3f\" % slope)"
   ]
  },
  {
   "cell_type": "code",
   "execution_count": 207,
   "metadata": {},
   "outputs": [],
   "source": [
    "def optimize(fonc, dfonc, xinit, eps, max_iter):\n",
    "    x_histo = []\n",
    "    f_histo = []\n",
    "    grad_histo = []\n",
    "    \n",
    "    x_histo.append(xinit)\n",
    "    f_histo.append(fonc(xinit))\n",
    "    for i in range(max_iter):\n",
    "        x = x_histo[i] - eps * dfonc(x_histo[i])\n",
    "        x_histo.append(x)\n",
    "        f_histo.append(fonc(x_histo[i]))\n",
    "        grad_histo.append(dfonc(x_histo[i]))\n",
    "        \n",
    "    return np.array(x_histo), np.array(f_histo), np.array(grad_histo)\n",
    "        "
   ]
  },
  {
   "cell_type": "markdown",
   "metadata": {},
   "source": [
    "## <center><code style=\"background:yellow; color:black\"> Optimisation de fonctions </code></center>"
   ]
  },
  {
   "cell_type": "markdown",
   "metadata": {},
   "source": [
    "Testez votre implémentation sur les 3 fonctions suivantes : \n",
    "<ul>\n",
    "    <li> en 1d sur la fonction $f(x) = xcos(x)$ </li>\n",
    "    <li> en 1d sur la fonction $−log(x) + x^2$ </li>\n",
    "    <li> en 2d sur la fonction Rosenbrock (ou banana), définie par : $f(x1,x2) = 100 * (x^2 − x^{2}_1)^2 + (1−x_1)^2$ </li>\n",
    "</ul>\n",
    "Tracer :\n",
    "<ul>\n",
    "    <li> en fonction du nombre d’itérations, les valeurs de **f** et du gradient de **f** </li>\n",
    "    <li> sur un même graphe avec deux couleurs différentes, la fonction **f** et la trajectoire de l’optimisation ( les valeurs successives de $f(x^t)$ ) </li>\n",
    "    <li> la courbe ($t$, $log(||x^t−x^∗||))$, avec $x^∗$ la valeur optimale atteinte. Que remarquez vous ? </li>\n",
    "</ul>\n",
    "Vous pouvez utiliser le code suivant pour une visualisation 3d (après avoir fait une visulatisation 2d)."
   ]
  },
  {
   "cell_type": "code",
   "execution_count": 81,
   "metadata": {},
   "outputs": [],
   "source": [
    "def make_grid(xmin=-5,xmax=5,ymin=-5,ymax=5,step=20,data=None):\n",
    "    \"\"\" Cree une grille sous forme de matrice 2d de la liste des points\n",
    "    :return: une matrice 2d contenant les points de la grille, la liste x, la liste y\n",
    "    \"\"\"\n",
    "    if data is not None:\n",
    "        xmax,xmin,ymax,ymin = np.max(data[:,0]),np.min(data[:,0]),\\\n",
    "                              np.max(data[:,1]),np.min(data[:,1])\n",
    "    x,y = np.meshgrid(np.arange(xmin,xmax,(xmax-xmin)*1./step),\n",
    "                      np.arange(ymin,ymax,(ymax-ymin)*1./step))\n",
    "    grid=np.c_[x.ravel(),y.ravel()]\n",
    "    return grid, x, y\n",
    "\n",
    "# mafonction = ...\n",
    "# grid,xx,yy = make_grid(-1,3,-1,3,20)\n",
    "# plt.figure()\n",
    "# plt.contourf(xx,yy,mafonction(grid).reshape(xx.shape))\n",
    "\n",
    "\n",
    "\n",
    "# fig = plt.figure()\n",
    "# ax = fig.gca(projection='3d')\n",
    "# surf = ax.plot_surface(xx, yy, mafonction(grid).reshape(xx.shape),rstride=1,cstride=1, cmap=cm.gist_rainbow, linewidth=0, antialiased=False)\n",
    "# fig.colorbar(surf)\n",
    "# plt.show()\n"
   ]
  },
  {
   "cell_type": "code",
   "execution_count": 209,
   "metadata": {},
   "outputs": [
    {
     "data": {
      "text/plain": [
       "5.078"
      ]
     },
     "execution_count": 209,
     "metadata": {},
     "output_type": "execute_result"
    }
   ],
   "source": [
    "def f1(x):\n",
    "    return x*np.cos(x)\n",
    "\n",
    "def df1(x):\n",
    "    return np.cos(x) - np.sin(x) \n",
    "\n",
    "def f2(x):\n",
    "    return -np.log(x) + x**2\n",
    "\n",
    "def df2(x):\n",
    "    return -(1/x) + 2*x\n",
    "\n",
    "def f3(x1, x2):\n",
    "    return 100 * ( x2 - x1**2 )**2 + ( 1 - x1 )**2\n",
    "\n",
    "def df3(x1, x2):\n",
    "    return None"
   ]
  },
  {
   "cell_type": "code",
   "execution_count": 80,
   "metadata": {},
   "outputs": [
    {
     "data": {
      "text/plain": [
       "[<matplotlib.lines.Line2D at 0x214843763c8>]"
      ]
     },
     "execution_count": 80,
     "metadata": {},
     "output_type": "execute_result"
    },
    {
     "data": {
      "image/png": "[encoded data removed]",
      "text/plain": [
       "<Figure size 432x288 with 1 Axes>"
      ]
     },
     "metadata": {},
     "output_type": "display_data"
    }
   ],
   "source": [
    "x, f, g = optimize(f1, df1, 1, 0.05, 200)\n",
    "\n",
    "fig = plt.figure()\n",
    "ax = fig.add_subplot(1, 1, 1)\n",
    "plt.xlabel(\"Nombre d'itérations\")\n",
    "plt.ylabel(\"Valeur des points\")\n",
    "plt.title(\"Evolution des points x, f(x) et grad f\")\n",
    "ax.plot(np.arange(len(x)), x, color='tab:blue')\n",
    "ax.plot(np.arange(len(f)), f, color='tab:orange')\n",
    "ax.plot(np.arange(len(g)), g, color='tab:red')"
   ]
  },
  {
   "cell_type": "code",
   "execution_count": 57,
   "metadata": {},
   "outputs": [
    {
     "data": {
      "text/plain": [
       "[<matplotlib.lines.Line2D at 0x21482d3cf98>]"
      ]
     },
     "execution_count": 57,
     "metadata": {},
     "output_type": "execute_result"
    },
    {
     "data": {
      "image/png": "[encoded data removed]",
      "text/plain": [
       "<Figure size 432x288 with 1 Axes>"
      ]
     },
     "metadata": {},
     "output_type": "display_data"
    }
   ],
   "source": [
    "x, f, g = optimize(f2, df2, 1, 0.05, 200)\n",
    "\n",
    "fig = plt.figure()\n",
    "ax = fig.add_subplot(1, 1, 1)\n",
    "plt.xlabel(\"Nombre d'itérations\")\n",
    "plt.ylabel(\"Valeur des points\")\n",
    "plt.title(\"Evolution des points x, f(x) et grad f\")\n",
    "ax.plot(np.arange(len(x)), x, color='tab:blue')\n",
    "ax.plot(np.arange(len(f)), f, color='tab:orange')\n",
    "ax.plot(np.arange(len(g)), g, color='tab:red')"
   ]
  },
  {
   "cell_type": "markdown",
   "metadata": {},
   "source": [
    "## <center><code style=\"background:yellow; color:black\"> Régression logistique </code></center>"
   ]
  },
  {
   "cell_type": "markdown",
   "metadata": {},
   "source": [
    "Implémenter la descente de gradient pour la régression logistique. Faire pour cela une classe qui comporte : \n",
    "<ul>\n",
    "    <li> un constructeur pour initialiser les paramètres de la descente de gradient (nombre d’itérations, pas de gradient, ... ) </li>\n",
    "    <li> une méthode **fit(datax, datay)** qui permet d’apprendre le modèle sur les données **datax** de label **datay** </li>\n",
    "    <li> une méthode **predict(datax)** qui permet d’obtenir les labels prédits pour les exemples de **datax** </li>\n",
    "    <li> une méthode **score(datax, datay)** qui permet d’obtenir le pourcentage de bonne classification. </li>\n",
    "</ul>\n",
    "Rappel : les données **datax** sont sous la forme d’une matrice, chaque ligne un exemple, chaque colonne une dimension - et **datay** sous la forme d’un vecteur de labels. Tester vos algorithmes sur les données USPS (chiffres manuscrits - en ne choisissant que deux classes parmi les 10) du TME3 de MAPSI http://www-connex.lip6.fr/~baskiotisn/ARF17/USPS.zip. Observer la valeur des poids. Comparer à un classifieur bayésien naïf. <br>\n",
    "Utiliser le code suivant pour lire le fichier de données :"
   ]
  },
  {
   "cell_type": "code",
   "execution_count": 198,
   "metadata": {},
   "outputs": [
    {
     "name": "stdout",
     "output_type": "stream",
     "text": [
      "(1736, 256) (1736,)\n",
      "(462, 256) (462,)\n",
      "[[0.004 1.572 1.396 ... 0.    0.    0.   ]\n",
      " [0.    0.    1.469 ... 0.    0.    0.   ]\n",
      " [0.    0.    0.    ... 0.    0.    0.   ]\n",
      " ...\n",
      " [0.    0.    0.    ... 0.    0.    0.   ]\n",
      " [0.    0.    0.    ... 1.36  0.619 0.   ]\n",
      " [0.    0.    0.    ... 0.    0.    0.   ]]\n"
     ]
    }
   ],
   "source": [
    "def load_usps(filename):\n",
    "    with open(filename,\"r\") as f:\n",
    "        f.readline()\n",
    "        data =[ [float(x) for x in l.split()] for l in f if len(l.split())>2]\n",
    "    tmp = np.array(data)\n",
    "    return tmp[:,1:],tmp[:,0].astype(int)\n",
    "\n",
    "train_x, train_y = load_usps(\"usps_train.txt\")\n",
    "test_x, test_y = load_usps(\"usps_test.txt\")\n",
    "\n",
    "class12_train_x = train_x[ np.where( (train_y == 1) | (train_y == 2) ) ]\n",
    "class12_train_y = np.where( (train_y == 1) | (train_y == 2) )[0]\n",
    "\n",
    "class12_test_x = test_x[ np.where( (test_y == 1) | (test_y == 2) ) ]\n",
    "class12_test_y = np.where( (test_y == 1) | (test_y == 2) )[0]\n",
    "\n",
    "print(class12_train_x.shape, class12_train_y.shape)\n",
    "print(class12_test_x.shape, class12_test_y.shape)\n",
    "print(class12_test_x)"
   ]
  },
  {
   "cell_type": "code",
   "execution_count": 185,
   "metadata": {},
   "outputs": [],
   "source": [
    "def sigmoid(z):\n",
    "    return 1 / ( 1 + np.exp(-z) )\n",
    "\n",
    "def cost_function(datax, datay, w):\n",
    "    z = np.dot(w, datax.T)\n",
    "    sig = sigmoid(z)\n",
    "    m = len(datay)\n",
    "    return np.dot( (sig - datay), datax ) * ( 1 / m )"
   ]
  },
  {
   "cell_type": "code",
   "execution_count": 203,
   "metadata": {},
   "outputs": [],
   "source": [
    "class RegressionLogistique():\n",
    "    \n",
    "    def __init__(self, max_iter, eps):\n",
    "        self.max_iter = max_iter\n",
    "        self.eps = eps\n",
    "        \n",
    "    def fit(self, datax, datay):\n",
    "        self.w = np.random.random(datax.shape[1])\n",
    "        for i in range(self.max_iter):\n",
    "            self.w -= self.eps * cost_function(datax, datay, self.w)\n",
    "            \n",
    "    def predict(self, datax):\n",
    "        z = np.dot( self.w, datax.T )\n",
    "        sig = sigmoid(z)\n",
    "        self.pred = np.where( (sig >= 0.5), 1, 0 )\n",
    "        \n",
    "    def score(self, datay):\n",
    "        labels = np.unique(datay)\n",
    "        classif_0 = np.where(((self.pred == labels[0]) & (datay == labels[0])), 1, 0).sum() \n",
    "        classif_1 = np.where(((self.pred == labels[1]) & (datay == labels[1])), 1, 0).sum()\n",
    "        self.score = ( classif_0 + classif_1 ) / len(datay)\n",
    "        #print(self.score)"
   ]
  },
  {
   "cell_type": "code",
   "execution_count": 204,
   "metadata": {},
   "outputs": [],
   "source": [
    "rl = RegressionLogistique(2000, 0.01)\n",
    "rl.fit(class12_train_x, class12_train_y)\n",
    "rl.predict(class12_test_x)\n",
    "rl.score(class12_test_y)"
   ]
  },
  {
   "cell_type": "code",
   "execution_count": null,
   "metadata": {},
   "outputs": [],
   "source": []
  }
 ],
 "metadata": {
  "kernelspec": {
   "display_name": "Python 3",
   "language": "python",
   "name": "python3"
  },
  "language_info": {
   "codemirror_mode": {
    "name": "ipython",
    "version": 3
   },
   "file_extension": ".py",
   "mimetype": "text/x-python",
   "name": "python",
   "nbconvert_exporter": "python",
   "pygments_lexer": "ipython3",
   "version": "3.6.5"
  }
 },
 "nbformat": 4,
 "nbformat_minor": 2
}
