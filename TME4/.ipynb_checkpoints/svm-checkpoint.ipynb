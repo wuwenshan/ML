{
 "cells": [
  {
   "cell_type": "markdown",
   "metadata": {},
   "source": [
    "# <center><font color='red'> TME 4 - SVM </font></center>"
   ]
  },
  {
   "cell_type": "code",
   "execution_count": 45,
   "metadata": {},
   "outputs": [],
   "source": [
    "import numpy as np\n",
    "#from mpl_toolkits.mplot3d import Axes3D\n",
    "import matplotlib.pyplot as plt\n",
    "from matplotlib import cm\n",
    "import collections\n",
    "from sklearn.svm import *\n",
    "from sklearn.model_selection import GridSearchCV\n",
    "from sklearn.metrics import classification_report\n",
    "import pandas as pd"
   ]
  },
  {
   "cell_type": "code",
   "execution_count": 3,
   "metadata": {},
   "outputs": [],
   "source": [
    "def plot_data(data,labels=None):\n",
    "    \"\"\"\n",
    "    Affiche des donnees 2D\n",
    "    :param data: matrice des donnees 2d\n",
    "    :param labels: vecteur des labels (discrets)\n",
    "    :return:\n",
    "    \"\"\"\n",
    "    cols,marks = [\"red\", \"green\", \"blue\", \"orange\", \"black\", \"cyan\"],[\".\",\"+\",\"*\",\"o\",\"x\",\"^\"]\n",
    "    if labels is None:\n",
    "        plt.scatter(data[:,0],data[:,1],marker=\"x\")\n",
    "        return\n",
    "    for i,l in enumerate(sorted(list(set(labels.flatten())))):\n",
    "        plt.scatter(data[labels==l,0],data[labels==l,1],c=cols[i],marker=marks[i])\n",
    "\n",
    "def plot_frontiere(data,f,step=20):\n",
    "    \"\"\" Trace un graphe de la frontiere de decision de f\n",
    "    :param data: donnees\n",
    "    :param f: fonction de decision\n",
    "    :param step: pas de la grille\n",
    "    :return:\n",
    "    \"\"\"\n",
    "    grid,x,y=make_grid(data=data,step=step)\n",
    "    plt.contourf(x,y,f(grid).reshape(x.shape),colors=('gray','blue'),levels=[-1,0,1])\n",
    "    \n",
    "def plot_frontiere_proba(data, f, step=20):\n",
    "    grid,x,y=make_grid(data=data,step=step)\n",
    "    plt.contourf(x,y,f(grid).reshape(x.shape),255)\n",
    "\n",
    "def make_grid(data=None,xmin=-5,xmax=5,ymin=-5,ymax=5,step=20):\n",
    "    \"\"\" Cree une grille sous forme de matrice 2d de la liste des points\n",
    "    :param data: pour calcluler les bornes du graphe\n",
    "    :param xmin: si pas data, alors bornes du graphe\n",
    "    :param xmax:\n",
    "    :param ymin:\n",
    "    :param ymax:\n",
    "    :param step: pas de la grille\n",
    "    :return: une matrice 2d contenant les points de la grille\n",
    "    \"\"\"\n",
    "    if data is not None:\n",
    "        xmax, xmin, ymax, ymin = np.max(data[:,0]),  np.min(data[:,0]), np.max(data[:,1]), np.min(data[:,1])\n",
    "    x, y =np.meshgrid(np.arange(xmin,xmax,(xmax-xmin)*1./step), np.arange(ymin,ymax,(ymax-ymin)*1./step))\n",
    "    grid=np.c_[x.ravel(),y.ravel()]\n",
    "    return grid, x, y\n",
    "\n",
    "def gen_arti(centerx=1,centery=1,sigma=0.1,nbex=1000,data_type=0,epsilon=0.02):\n",
    "    \"\"\" Generateur de donnees,\n",
    "        :param centerx: centre des gaussiennes\n",
    "        :param centery:\n",
    "        :param sigma: des gaussiennes\n",
    "        :param nbex: nombre d'exemples\n",
    "        :param data_type: 0: melange 2 gaussiennes, 1: melange 4 gaussiennes, 2:echequier\n",
    "        :param epsilon: bruit dans les donnees\n",
    "        :return: data matrice 2d des donnnes,y etiquette des donnnees\n",
    "    \"\"\"\n",
    "    if data_type==0:\n",
    "        #melange de 2 gaussiennes\n",
    "        xpos=np.random.multivariate_normal([centerx,centerx],np.diag([sigma,sigma]),nbex//2)\n",
    "        xneg=np.random.multivariate_normal([-centerx,-centerx],np.diag([sigma,sigma]),nbex//2)\n",
    "        data=np.vstack((xpos,xneg))\n",
    "        y=np.hstack((np.ones(nbex//2),-np.ones(nbex//2)))\n",
    "    if data_type==1:\n",
    "        #melange de 4 gaussiennes\n",
    "        xpos=np.vstack((np.random.multivariate_normal([centerx,centerx],np.diag([sigma,sigma]),nbex//4),np.random.multivariate_normal([-centerx,-centerx],np.diag([sigma,sigma]),nbex//4)))\n",
    "        xneg=np.vstack((np.random.multivariate_normal([-centerx,centerx],np.diag([sigma,sigma]),nbex//4),np.random.multivariate_normal([centerx,-centerx],np.diag([sigma,sigma]),nbex//4)))\n",
    "        data=np.vstack((xpos,xneg))\n",
    "        y=np.hstack((np.ones(nbex//2),-np.ones(nbex//2)))\n",
    "\n",
    "    if data_type==2:\n",
    "        #echiquier\n",
    "        data=np.reshape(np.random.uniform(-4,4,2*nbex),(nbex,2))\n",
    "        y=np.ceil(data[:,0])+np.ceil(data[:,1])\n",
    "        y=2*(y % 2)-1\n",
    "    # un peu de bruit\n",
    "    data[:,0]+=np.random.normal(0,epsilon,nbex)\n",
    "    data[:,1]+=np.random.normal(0,epsilon,nbex)\n",
    "    # on mélange les données\n",
    "    idx = np.random.permutation((range(y.size)))\n",
    "    data=data[idx,:]\n",
    "    y=y[idx]\n",
    "    return data,y"
   ]
  },
  {
   "cell_type": "markdown",
   "metadata": {},
   "source": [
    "## <center><code style=\"background:yellow; color:black\"> SVM et Grid Search </code></center>"
   ]
  },
  {
   "cell_type": "markdown",
   "metadata": {},
   "source": [
    "Le module **sklearn.svm** propose une implémentation des SVMs. Sur les jeux de données des précédents TMEs (2d artificiels et reconnaissance de chiffres), explorer plusieurs noyaux (linéaire, gaussien, polynomial) et plusieurs paramètrages des noyaux. Vous étudierez en particulier les frontières de décisions et les vecteurs supports - les points dont les coefficients sont non nuls. Comment évolue le nombre de ces derniers en fonction du noyau et de son paramètrage ? Est-ce normal ? Que retrouvez vous dans le cas linéaire ? Afin de trouver les meilleurs paramètres, on opère par validation croisée sur une grille des paramètres (grid search). Pour les différents noyaux et différents nombre d’exemples d’apprentissage, opérer un grid search afin de trouver les paramètres optimaux. Tracer les courbes d’erreurs en apprentissage et en test. Les résultats sont-ils cohérents ?"
   ]
  },
  {
   "cell_type": "code",
   "execution_count": 34,
   "metadata": {},
   "outputs": [],
   "source": [
    "trainx,trainy = gen_arti(nbex=1000,data_type=0,epsilon=1)\n",
    "testx,testy = gen_arti(nbex=1000,data_type=0,epsilon=1)"
   ]
  },
  {
   "cell_type": "code",
   "execution_count": 50,
   "metadata": {},
   "outputs": [
    {
     "name": "stderr",
     "output_type": "stream",
     "text": [
      "C:\\Users\\wuwen\\Anaconda3\\lib\\site-packages\\sklearn\\model_selection\\_split.py:1978: FutureWarning: The default value of cv will change from 3 to 5 in version 0.22. Specify it explicitly to silence this warning.\n",
      "  warnings.warn(CV_WARNING, FutureWarning)\n"
     ]
    },
    {
     "name": "stdout",
     "output_type": "stream",
     "text": [
      "    mean_fit_time  std_fit_time  mean_score_time  std_score_time param_C  \\\n",
      "0        0.010272      0.007266         0.000000        0.000000       1   \n",
      "1        0.015634      0.000018         0.000000        0.000000       1   \n",
      "2        0.000000      0.000000         0.005203        0.007358      10   \n",
      "3        0.010414      0.007364         0.000000        0.000000      10   \n",
      "4        0.005208      0.007365         0.000000        0.000000     100   \n",
      "5        0.000000      0.000000         0.005207        0.007363     100   \n",
      "6        0.005207      0.007364         0.000000        0.000000    1000   \n",
      "7        0.000000      0.000000         0.000000        0.000000    1000   \n",
      "8        0.005198      0.007352         0.000000        0.000000       1   \n",
      "9        0.010415      0.007364         0.000000        0.000000      10   \n",
      "10       0.026044      0.007369         0.000000        0.000000     100   \n",
      "11       0.208289      0.041000         0.000000        0.000000    1000   \n",
      "\n",
      "   param_gamma param_kernel                                         params  \\\n",
      "0        0.001          rbf      {'C': 1, 'gamma': 0.001, 'kernel': 'rbf'}   \n",
      "1       0.0001          rbf     {'C': 1, 'gamma': 0.0001, 'kernel': 'rbf'}   \n",
      "2        0.001          rbf     {'C': 10, 'gamma': 0.001, 'kernel': 'rbf'}   \n",
      "3       0.0001          rbf    {'C': 10, 'gamma': 0.0001, 'kernel': 'rbf'}   \n",
      "4        0.001          rbf    {'C': 100, 'gamma': 0.001, 'kernel': 'rbf'}   \n",
      "5       0.0001          rbf   {'C': 100, 'gamma': 0.0001, 'kernel': 'rbf'}   \n",
      "6        0.001          rbf   {'C': 1000, 'gamma': 0.001, 'kernel': 'rbf'}   \n",
      "7       0.0001          rbf  {'C': 1000, 'gamma': 0.0001, 'kernel': 'rbf'}   \n",
      "8          NaN       linear                   {'C': 1, 'kernel': 'linear'}   \n",
      "9          NaN       linear                  {'C': 10, 'kernel': 'linear'}   \n",
      "10         NaN       linear                 {'C': 100, 'kernel': 'linear'}   \n",
      "11         NaN       linear                {'C': 1000, 'kernel': 'linear'}   \n",
      "\n",
      "    split0_test_score  split1_test_score  split2_test_score  mean_test_score  \\\n",
      "0            0.910180           0.919162           0.897590            0.909   \n",
      "1            0.910180           0.916168           0.900602            0.909   \n",
      "2            0.907186           0.922156           0.897590            0.909   \n",
      "3            0.910180           0.916168           0.897590            0.908   \n",
      "4            0.904192           0.916168           0.897590            0.906   \n",
      "5            0.907186           0.922156           0.897590            0.909   \n",
      "6            0.907186           0.922156           0.897590            0.909   \n",
      "7            0.901198           0.916168           0.897590            0.905   \n",
      "8            0.898204           0.919162           0.897590            0.905   \n",
      "9            0.898204           0.922156           0.897590            0.906   \n",
      "10           0.898204           0.922156           0.897590            0.906   \n",
      "11           0.898204           0.922156           0.897590            0.906   \n",
      "\n",
      "    std_test_score  rank_test_score  \n",
      "0         0.008842                1  \n",
      "1         0.006406                1  \n",
      "2         0.010106                1  \n",
      "3         0.007736                6  \n",
      "4         0.007688                7  \n",
      "5         0.010106                1  \n",
      "6         0.010106                1  \n",
      "7         0.008044               11  \n",
      "8         0.010032               11  \n",
      "9         0.011444                7  \n",
      "10        0.011444                7  \n",
      "11        0.011444                7  \n"
     ]
    }
   ],
   "source": [
    "parameters = [{'kernel': ['rbf'], 'gamma': [1e-3, 1e-4],\n",
    "                     'C': [1, 10, 100, 1000]},\n",
    "                    {'kernel': ['linear'], 'C': [1, 10, 100, 1000]}]\n",
    "clf = GridSearchCV(SVC(), parameters)\n",
    "clf.fit(trainx, trainy)\n",
    "clf.predict(testx)\n",
    "#pred = clf.predict(testx)\n",
    "print(pd.DataFrame( ( clf.cv_results_) ) )\n",
    "# plot_frontiere(trainx,clf.predict,200)\n",
    "# plot_data(trainx,trainy)\n",
    "# print(\"Score : \", np.where(pred == testy, 1, 0).mean())"
   ]
  },
  {
   "cell_type": "code",
   "execution_count": null,
   "metadata": {},
   "outputs": [],
   "source": []
  }
 ],
 "metadata": {
  "kernelspec": {
   "display_name": "Python 3",
   "language": "python",
   "name": "python3"
  },
  "language_info": {
   "codemirror_mode": {
    "name": "ipython",
    "version": 3
   },
   "file_extension": ".py",
   "mimetype": "text/x-python",
   "name": "python",
   "nbconvert_exporter": "python",
   "pygments_lexer": "ipython3",
   "version": "3.6.5"
  }
 },
 "nbformat": 4,
 "nbformat_minor": 2
}
